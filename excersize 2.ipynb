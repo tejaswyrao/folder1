{
 "cells": [
  {
   "cell_type": "code",
   "execution_count": 1,
   "metadata": {},
   "outputs": [
    {
     "name": "stdout",
     "output_type": "stream",
     "text": [
      "abc\n",
      "Zap\n",
      "abc\n"
     ]
    }
   ],
   "source": [
    "def fred():\n",
    "    print (\"Zap\")\n",
    "def jane():\n",
    "    print(\"abc\")\n",
    "    \n",
    "jane()\n",
    "fred()\n",
    "jane()"
   ]
  },
  {
   "cell_type": "code",
   "execution_count": 11,
   "metadata": {
    "scrolled": true
   },
   "outputs": [
    {
     "name": "stdout",
     "output_type": "stream",
     "text": [
      "enter the score56\n",
      "enter the score between 0.0 and 1\n"
     ]
    }
   ],
   "source": [
    "s=input('enter the score')\n",
    "try:\n",
    "    score=float(s)\n",
    "    if score>=0.9 and score<=1:\n",
    "        print('score grade is A')\n",
    "    elif score>=0.8 and score<0.9:\n",
    "        print('score grade is B')\n",
    "    elif score>=0.7 and score<0.8:\n",
    "        print('score grade is C')\n",
    "    elif score>=0.6 and score<0.7:\n",
    "        print('score grade is D')\n",
    "    elif score<0.6 and score<=0.0:\n",
    "        print('score grade is F')\n",
    "    else:\n",
    "        print('enter the score between 0.0 and 1')\n",
    "except:\n",
    "    print('Bad score')"
   ]
  },
  {
   "cell_type": "code",
   "execution_count": null,
   "metadata": {},
   "outputs": [],
   "source": []
  },
  {
   "cell_type": "code",
   "execution_count": null,
   "metadata": {},
   "outputs": [],
   "source": []
  },
  {
   "cell_type": "code",
   "execution_count": null,
   "metadata": {},
   "outputs": [],
   "source": []
  }
 ],
 "metadata": {
  "kernelspec": {
   "display_name": "Python 3",
   "language": "python",
   "name": "python3"
  },
  "language_info": {
   "codemirror_mode": {
    "name": "ipython",
    "version": 3
   },
   "file_extension": ".py",
   "mimetype": "text/x-python",
   "name": "python",
   "nbconvert_exporter": "python",
   "pygments_lexer": "ipython3",
   "version": "3.7.0"
  }
 },
 "nbformat": 4,
 "nbformat_minor": 2
}
